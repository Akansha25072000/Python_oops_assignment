{
  "nbformat": 4,
  "nbformat_minor": 0,
  "metadata": {
    "colab": {
      "provenance": []
    },
    "kernelspec": {
      "name": "python3",
      "display_name": "Python 3"
    },
    "language_info": {
      "name": "python"
    }
  },
  "cells": [
    {
      "cell_type": "code",
      "execution_count": null,
      "metadata": {
        "id": "fjdT-LB_Z4Tw"
      },
      "outputs": [],
      "source": []
    },
    {
      "cell_type": "markdown",
      "source": [
        "1. What is Object-Oriented Programming (OOP)?\n",
        "Ans. OOP is a programming paradigm based on the concept of objects, which contain both data (attributes) and methods (functions). It helps structure software in a modular and reusable way by grouping related behavior and data together.\n",
        "Key principles:\n",
        "\n",
        "Encapsulation\n",
        "\n",
        "Inheritance\n",
        "\n",
        "Polymorphism\n",
        "\n",
        "Abstraction\n",
        "\n",
        "2.  What is a class in OOP?\n",
        "Ans. A class is a blueprint or template for creating objects. It defines the structure and behavior (i.e., attributes and methods) that the created objects will have.\n",
        "\n",
        "class Car:\n",
        "    def __init__(self, brand):\n",
        "        self.brand = brand\n",
        "    def drive(self):\n",
        "        print(f\"{self.brand} is driving\")\n",
        "\n",
        "3. What is an object in OOP?\n",
        "Ans. An object is an instance of a class. When a class is defined, no memory is allocated until an object is created.\n",
        "\n",
        "car1 = Car(\"Toyota\")  # car1 is an object of class Car\n",
        "\n",
        "4. What is the difference between abstraction and encapsulation?\n",
        "Ans.\n",
        "Concept: Definition\n",
        "Abstraction: Hides implementation details\n",
        "Encapsulation: Restricts access to internal data\n",
        "\n",
        "Concept: Purpose\n",
        "Abstraction: Shows only necessary features\n",
        "Encapsulation: Protects the internal state of an object\n",
        "\n",
        "Concept: How\n",
        "Abstraction:Using abstract classes/interfaces\n",
        "Encapsulation: Using private variables (_ or __) and methods\n",
        "\n",
        "Concept: Example\n",
        "Abstraction:Hiding file operations in a File class\n",
        "Encapsulation: Using self.__balance in a BankAccount class\n",
        "\n",
        "5. What are dunder methods in Python?\n",
        "Ans. \"Dunder\" stands for double underscore. Dunder methods (like __init__, __str__, __add__) are special methods that Python uses internally to provide operator overloading and object behavior.\n",
        "Examples:\n",
        "\n",
        "__init__ → constructor\n",
        "\n",
        "__str__ → string representation\n",
        "\n",
        "__len__ → length of object\n",
        "\n",
        "6.  Explain the concept of inheritance in OOP.\n",
        "Ans.Inheritance allows a class (child/derived) to acquire properties and behaviors (methods) from another class (parent/base).\n",
        "\n",
        "class Animal:\n",
        "    def speak(self):\n",
        "        print(\"Animal speaks\")\n",
        "\n",
        "class Dog(Animal):\n",
        "    def speak(self):\n",
        "        print(\"Dog barks\")\n",
        "\n",
        "d = Dog()\n",
        "d.speak()  # Output: Dog barks\n",
        "\n",
        "7. What is polymorphism in OOP?\n",
        "Ans. Polymorphism allows the same method name to behave differently depending on the object.\n",
        "Example:\n",
        "\n",
        "class Bird:\n",
        "    def sound(self):\n",
        "        print(\"Chirp\")\n",
        "\n",
        "class Cat:\n",
        "    def sound(self):\n",
        "        print(\"Meow\")\n",
        "\n",
        "def make_sound(animal):\n",
        "    animal.sound()\n",
        "\n",
        "8.  How is encapsulation achieved in Python?\n",
        "Ans. Encapsulation is done by:\n",
        "\n",
        "Using private variables (with __ prefix)\n",
        "\n",
        "Providing getter/setter methods\n",
        "Example:\n",
        "\n",
        "class BankAccount:\n",
        "    def __init__(self, balance):\n",
        "        self.__balance = balance\n",
        "    def get_balance(self):\n",
        "        return self.__balance\n",
        "    def set_balance(self, value):\n",
        "        self.__balance = value\n",
        "\n",
        "9. What is a constructor in Python?\n",
        "Ans. A constructor is a special method called __init__() that runs when an object is created. It is used to initialize attributes.\n",
        "\n",
        "class Student:\n",
        "    def __init__(self, name):\n",
        "        self.name = name\n",
        "\n",
        "10. What are class and static methods in Python?\n",
        "Ans. Class method: Uses @classmethod, takes cls as first argument, can access class variables.\n",
        "\n",
        "Static method: Uses @staticmethod, takes no special first argument, behaves like a regular function inside class.\n",
        "\n",
        "class Demo:\n",
        "    count = 0\n",
        "    @classmethod\n",
        "    def increment(cls):\n",
        "        cls.count += 1\n",
        "    @staticmethod\n",
        "    def greet():\n",
        "        print(\"Hello!\")\n",
        "\n",
        "11.  What is method overloading in Python?\n",
        "Ans. Python does not support traditional method overloading (same method name, different parameters). Instead, you can use default arguments:\n",
        "\n",
        "class Demo:\n",
        "    def show(self, a=None):\n",
        "        if a:\n",
        "            print(a)\n",
        "        else:\n",
        "            print(\"No value\")\n",
        "\n",
        "12. What is method overriding in OOP?\n",
        "Ans. Method overriding means redefining a method in the child class that is already defined in the parent class. It changes behavior for the derived class.\n",
        "\n",
        "class Parent:\n",
        "    def greet(self):\n",
        "        print(\"Hello from parent\")\n",
        "\n",
        "class Child(Parent):\n",
        "    def greet(self):\n",
        "        print(\"Hello from child\")\n",
        "\n",
        "13.  What is a property decorator in Python?\n",
        "Ans. The @property decorator allows you to access a method like an attribute. It is commonly used to implement getters and setters.\n",
        "\n",
        "class Circle:\n",
        "    def __init__(self, radius):\n",
        "        self._radius = radius\n",
        "    @property\n",
        "    def area(self):\n",
        "        return 3.14 * self._radius ** 2\n",
        "\n",
        "14. Why is polymorphism important in OOP?\n",
        "Ans. Polymorphism:\n",
        "\n",
        "Promotes code reusability\n",
        "\n",
        "Enables interfaces and generic functions\n",
        "\n",
        "Allows for extensibility\n",
        "\n",
        "Makes code more maintainable and flexible\n",
        "\n",
        "15. What is an abstract class in Python?\n",
        "Ans. An abstract class cannot be instantiated and is used as a base class. It contains abstract methods (declared but not implemented).\n",
        "Use abc module:\n",
        "\n",
        "from abc import ABC, abstractmethod\n",
        "\n",
        "class Animal(ABC):\n",
        "    @abstractmethod\n",
        "    def sound(self):\n",
        "        pass\n",
        "\n",
        "16. What are the advantages of OOP?\n",
        "Ans. Modularity: Code is organized into classes\n",
        "\n",
        "Reusability: Inheritance enables code reuse\n",
        "\n",
        "Scalability: Easy to maintain and scale\n",
        "\n",
        "Security: Data hiding through encapsulation\n",
        "\n",
        "Abstraction: Focus on essential features only\n",
        "\n",
        "17. What is the difference between a class variable and an instance variable?\n",
        "Ans. Class Variable:\n",
        "A class variable is a variable that is shared across all instances of a class. It is defined inside the class but outside any instance methods, usually right below the class definition. Since it is tied to the class itself, rather than to individual objects, any changes made to the class variable are reflected across all instances, unless specifically overridden at the instance level.\n",
        "\n",
        "class Dog:\n",
        "    species = \"Canis familiaris\"  # Class variable\n",
        "\n",
        "    def __init__(self, name):\n",
        "        self.name = name  # Instance variable\n",
        "In this example:\n",
        "\n",
        "species is the same for every dog object unless explicitly changed.\n",
        "\n",
        "You can access it using Dog.species or self.species.\n",
        "\n",
        "dog1 = Dog(\"Max\")\n",
        "dog2 = Dog(\"Bella\")\n",
        "print(dog1.species)  # Canis familiaris\n",
        "print(dog2.species)  # Canis familiaris\n",
        "Dog.species = \"Canis lupus\"\n",
        "print(dog1.species)  # Canis lupus\n",
        "Both dog1 and dog2 see the updated value, because species is a class-level variable.\n",
        "\n",
        "Instance Variable:\n",
        "An instance variable is unique to each object. It is defined within a method, typically the __init__() constructor, and is prefixed with self.. These variables hold data specific to a particular instance of the class, and changes to one object’s instance variable do not affect the instance variables of other objects.\n",
        "\n",
        "dog1 = Dog(\"Max\")\n",
        "dog2 = Dog(\"Bella\")\n",
        "print(dog1.name)  # Max\n",
        "print(dog2.name)  # Bella\n",
        "Here:\n",
        "\n",
        "name is an instance variable.\n",
        "\n",
        "dog1.name and dog2.name refer to different values even though they are based on the same class.\n",
        "\n",
        "Changing dog1.name = \"Rocky\" will not affect dog2.name.\n",
        "\n",
        "18. What is multiple inheritance in Python?\n",
        "Ans. Multiple inheritance is a feature in Python where a class can inherit from more than one parent class. This allows a child class to inherit attributes and methods from multiple sources.\n",
        "\n",
        "Example:\n",
        "class Father:\n",
        "    def skills(self):\n",
        "        print(\"Knows driving\")\n",
        "\n",
        "class Mother:\n",
        "    def skills(self):\n",
        "        print(\"Knows cooking\")\n",
        "\n",
        "class Child(Father, Mother):\n",
        "    pass\n",
        "\n",
        "c = Child()\n",
        "c.skills()\n",
        "\n",
        "19. Explain the purpose of ‘’__str__’ and ‘__repr__’ ‘ methods in Python.\n",
        "Ans. Both __str__ and __repr__ are dunder methods used to return a string representation of an object, but they serve different purposes:\n",
        "\n",
        "__str__: Called by str(object) and the print() function. Its goal is to return a readable, user-friendly string.\n",
        "\n",
        "__repr__: Called by repr(object) and used in the Python shell/debugging. It returns a developer-oriented representation that ideally could be used to recreate the object.\n",
        "\n",
        "Example:\n",
        "class Book:\n",
        "    def __init__(self, title):\n",
        "        self.title = title\n",
        "\n",
        "    def __str__(self):\n",
        "        return f\"Book title: {self.title}\"\n",
        "\n",
        "    def __repr__(self):\n",
        "        return f\"Book('{self.title}')\"\n",
        "\n",
        "b = Book(\"Python Basics\")\n",
        "print(str(b))   # Book title: Python Basics\n",
        "print(repr(b))  # Book('Python Basics')\n",
        "\n",
        "20. What is the significance of the ‘super()’ function in Python.\n",
        "Ans. The super() function is used to call methods from a parent class without explicitly naming it. It's especially useful in inheritance hierarchies, particularly in multiple inheritance or when using constructors.\n",
        "\n",
        "Key use cases:\n",
        "Calling the parent class’s __init__() inside a child class to ensure proper initialization.\n",
        "\n",
        "Avoiding hardcoding parent class names (which improves maintainability).\n",
        "\n",
        "Example:\n",
        "class Parent:\n",
        "    def __init__(self):\n",
        "        print(\"Parent init\")\n",
        "\n",
        "class Child(Parent):\n",
        "    def __init__(self):\n",
        "        super().__init__()\n",
        "        print(\"Child init\")\n",
        "\n",
        "c = Child()\n",
        "This ensures the parent’s constructor runs before the child’s.\n",
        "\n",
        "21.  What is the significance of the __del__ method in Python?\n",
        "Ans.The __del__ method is a destructor, automatically called when an object is about to be destroyed (i.e., when its reference count drops to zero). It allows for clean-up tasks like closing files or releasing resources.\n",
        "\n",
        "However, it’s not guaranteed to be called immediately, and over-reliance on it is discouraged.\n",
        "\n",
        "Example:\n",
        "class File:\n",
        "    def __del__(self):\n",
        "        print(\"File closed\")\n",
        "\n",
        "f = File()\n",
        "del f  # triggers __del__()\n",
        "If you're managing external resources (like files, network connections), it’s better to use context managers (with statement) than __del__.\n",
        "\n",
        "22. What is the difference between @staticmethod and @classmethod in Python?\n",
        "Ans. @staticmethod defines a method that does not receive the class or instance as the first argument. It behaves like a plain function inside a class and cannot access or modify class or instance variables.\n",
        "\n",
        "@classmethod defines a method that receives the class itself (cls) as the first argument. It can access or modify class-level data and is often used as alternative constructors or for utility methods tied to the class, not an instance.\n",
        "\n",
        "Example:\n",
        "class MyClass:\n",
        "    count = 0\n",
        "\n",
        "    @staticmethod\n",
        "    def greet():\n",
        "        print(\"Hello!\")\n",
        "\n",
        "    @classmethod\n",
        "    def increment(cls):\n",
        "        cls.count += 1\n",
        "Use @staticmethod when the function logic is completely independent of the class or instance, and use @classmethod when you need to interact with the class, like changing class variables.\n",
        "\n",
        "23.  How does polymorphism work in Python with inheritance?\n",
        "Ans. In Python, polymorphism with inheritance allows different classes to define methods with the same name, and when objects of these classes are used, the correct method is invoked based on the object's actual class—not the reference type.\n",
        "\n",
        "Example:\n",
        "class Animal:\n",
        "    def speak(self):\n",
        "        print(\"Animal sound\")\n",
        "\n",
        "class Dog(Animal):\n",
        "    def speak(self):\n",
        "        print(\"Bark\")\n",
        "\n",
        "class Cat(Animal):\n",
        "    def speak(self):\n",
        "        print(\"Meow\")\n",
        "\n",
        "def make_sound(animal):\n",
        "    animal.speak()\n",
        "\n",
        "make_sound(Dog())  # Bark\n",
        "make_sound(Cat())  # Meow\n",
        "Even though make_sound expects an Animal, it works correctly for any subclass due to polymorphism. This allows for more flexible and extensible code.\n",
        "\n",
        "24. What is method chaining in Python OOP?\n",
        "Ans. Method chaining allows you to call multiple methods on the same object in a single line, improving readability and making fluent interfaces.\n",
        "\n",
        "To support method chaining, each method in the chain must return self.\n",
        "\n",
        "Example:\n",
        "class Person:\n",
        "    def __init__(self, name):\n",
        "        self.name = name\n",
        "\n",
        "    def greet(self):\n",
        "        print(f\"Hi, I'm {self.name}\")\n",
        "        return self\n",
        "\n",
        "    def walk(self):\n",
        "        print(f\"{self.name} is walking\")\n",
        "        return self\n",
        "\n",
        "p = Person(\"Rishabh\")\n",
        "p.greet().walk()\n",
        "Each method returns the object itself, enabling chained calls.\n",
        "\n",
        "25. What is the purpose of the __call__ method in Python?\n",
        "Ans. The __call__ method allows an instance of a class to be called like a function. When you write obj(), Python internally calls obj.__call__().\n",
        "\n",
        "This is useful for:\n",
        "\n",
        "Creating callable objects\n",
        "\n",
        "Making function-like behavior part of a class\n",
        "\n",
        "Custom wrappers for logic\n",
        "\n",
        "Example:\n",
        "class Multiplier:\n",
        "    def __init__(self, factor):\n",
        "        self.factor = factor\n",
        "\n",
        "    def __call__(self, value):\n",
        "        return value * self.factor\n",
        "\n",
        "double = Multiplier(2)\n",
        "print(double(5))  # Output: 10\n",
        "Here, double(5) looks like a function call, but it's actually an object using __call__.\n",
        "\n"
      ],
      "metadata": {
        "id": "obFo_z6iaQ6R"
      }
    },
    {
      "cell_type": "code",
      "source": [
        "#1 Create a parent class Animal with a method speak() that prints a generic message. Create a child class Dog that overrides the speak() method to print \"Bark!\".\n",
        "\n",
        "class Animal:\n",
        "    def speak(self):\n",
        "        print(\"The animal makes a sound.\")\n",
        "\n",
        "class Dog(Animal):\n",
        "    def speak(self):\n",
        "        print(\"Bark!\")\n",
        "\n",
        "# Example usage:\n",
        "a = Animal()\n",
        "a.speak()  # Output: The animal makes a sound.\n",
        "\n",
        "d = Dog()\n",
        "d.speak()  # Output: Bark!"
      ],
      "metadata": {
        "colab": {
          "base_uri": "https://localhost:8080/"
        },
        "id": "MyHIwvAEgf3Y",
        "outputId": "710edf60-fa25-4c98-da9c-4bd497145711"
      },
      "execution_count": 2,
      "outputs": [
        {
          "output_type": "stream",
          "name": "stdout",
          "text": [
            "The animal makes a sound.\n",
            "Bark!\n"
          ]
        }
      ]
    },
    {
      "cell_type": "code",
      "source": [
        "# 2. Write a program to create an abstract class Shape with a method area(). Derive classes Circle and Rectangle from it and implement the area() method in both.\n",
        "from abc import ABC, abstractmethod\n",
        "import math\n",
        "\n",
        "# Abstract class\n",
        "class Shape(ABC):\n",
        "    @abstractmethod\n",
        "    def area(self):\n",
        "        pass\n",
        "\n",
        "# Circle class\n",
        "class Circle(Shape):\n",
        "    def __init__(self, radius):\n",
        "        self.radius = radius\n",
        "\n",
        "    def area(self):\n",
        "        return math.pi * self.radius ** 2\n",
        "\n",
        "# Rectangle class\n",
        "class Rectangle(Shape):\n",
        "    def __init__(self, length, width):\n",
        "        self.length = length\n",
        "        self.width = width\n",
        "\n",
        "    def area(self):\n",
        "        return self.length * self.width\n",
        "\n",
        "# Example usage\n",
        "c = Circle(5)\n",
        "r = Rectangle(4, 6)\n",
        "\n",
        "print(f\"Area of circle: {c.area():.2f}\")       # Area of circle: 78.54\n",
        "print(f\"Area of rectangle: {r.area()}\")       # Area of rectangle: 24"
      ],
      "metadata": {
        "colab": {
          "base_uri": "https://localhost:8080/"
        },
        "id": "8rox7wACgxVP",
        "outputId": "f18e8361-7e19-4091-84d6-fb9e588b7094"
      },
      "execution_count": 3,
      "outputs": [
        {
          "output_type": "stream",
          "name": "stdout",
          "text": [
            "Area of circle: 78.54\n",
            "Area of rectangle: 24\n"
          ]
        }
      ]
    },
    {
      "cell_type": "code",
      "source": [
        "#3 Implement a multi-level inheritance scenario where a class Vehicle has an attribute type. Derive a class Car and further derive a class ElectricCar that adds a battery attribute.\n",
        "# Base class\n",
        "class Vehicle:\n",
        "    def __init__(self, vehicle_type):\n",
        "        self.vehicle_type = vehicle_type\n",
        "\n",
        "    def display_type(self):\n",
        "        print(f\"Vehicle Type: {self.vehicle_type}\")\n",
        "\n",
        "# Derived class from Vehicle\n",
        "class Car(Vehicle):\n",
        "    def __init__(self, vehicle_type, brand):\n",
        "        super().__init__(vehicle_type)\n",
        "        self.brand = brand\n",
        "\n",
        "    def display_brand(self):\n",
        "        print(f\"Brand: {self.brand}\")\n",
        "\n",
        "# Further derived class from Car\n",
        "class ElectricCar(Car):\n",
        "    def __init__(self, vehicle_type, brand, battery_capacity):\n",
        "        super().__init__(vehicle_type, brand)\n",
        "        self.battery_capacity = battery_capacity\n",
        "\n",
        "    def display_info(self):\n",
        "        self.display_type()\n",
        "        self.display_brand()\n",
        "        print(f\"Battery Capacity: {self.battery_capacity} kWh\")\n",
        "\n",
        "# Example usage\n",
        "tesla = ElectricCar(\"Car\", \"Tesla\", 75)\n",
        "tesla.display_info()\n",
        "\n",
        "#Vehicle Type: Car\n",
        "#Brand: Tesla\n",
        "#Battery Capacity: 75 kWh"
      ],
      "metadata": {
        "colab": {
          "base_uri": "https://localhost:8080/"
        },
        "id": "yMpgvZqchEnV",
        "outputId": "61af7f06-7a35-40a8-de56-71ffe8a7fc41"
      },
      "execution_count": 4,
      "outputs": [
        {
          "output_type": "stream",
          "name": "stdout",
          "text": [
            "Vehicle Type: Car\n",
            "Brand: Tesla\n",
            "Battery Capacity: 75 kWh\n"
          ]
        }
      ]
    },
    {
      "cell_type": "code",
      "source": [
        "#4. Demonstrate polymorphism by creating a base class Bird with a method fly(). Create two derived classes Sparrow and Penguin that override the fly() method.\n",
        "# Base class\n",
        "class Bird:\n",
        "    def fly(self):\n",
        "        print(\"Bird is flying\")\n",
        "\n",
        "# Derived class: Sparrow\n",
        "class Sparrow(Bird):\n",
        "    def fly(self):\n",
        "        print(\"Sparrow flies high in the sky\")\n",
        "\n",
        "# Derived class: Penguin\n",
        "class Penguin(Bird):\n",
        "    def fly(self):\n",
        "        print(\"Penguins cannot fly, but they swim well\")\n",
        "\n",
        "# Function demonstrating polymorphism\n",
        "def bird_flight(bird):\n",
        "    bird.fly()\n",
        "\n",
        "# Example usage\n",
        "b1 = Sparrow()\n",
        "b2 = Penguin()\n",
        "\n",
        "bird_flight(b1)  # Output: Sparrow flies high in the sky\n",
        "bird_flight(b2)  # Output: Penguins cannot fly, but they swim well"
      ],
      "metadata": {
        "colab": {
          "base_uri": "https://localhost:8080/"
        },
        "id": "VapmduIBhgUC",
        "outputId": "a76ae725-b7c9-4a1f-ba59-7107a4d6731c"
      },
      "execution_count": 5,
      "outputs": [
        {
          "output_type": "stream",
          "name": "stdout",
          "text": [
            "Sparrow flies high in the sky\n",
            "Penguins cannot fly, but they swim well\n"
          ]
        }
      ]
    },
    {
      "cell_type": "code",
      "source": [
        "#5.Write a program to demonstrate encapsulation by creating a class BankAccount with private attributes balance and methods to deposit, withdraw, and check balance.\n",
        "class BankAccount:\n",
        "    def __init__(self, initial_balance=0):\n",
        "        self.__balance = initial_balance  # Private attribute\n",
        "\n",
        "    # Method to deposit money\n",
        "    def deposit(self, amount):\n",
        "        if amount > 0:\n",
        "            self.__balance += amount\n",
        "            print(f\"Deposited: ₹{amount}\")\n",
        "        else:\n",
        "            print(\"Invalid deposit amount.\")\n",
        "\n",
        "    # Method to withdraw money\n",
        "    def withdraw(self, amount):\n",
        "        if 0 < amount <= self.__balance:\n",
        "            self.__balance -= amount\n",
        "            print(f\"Withdrawn: ₹{amount}\")\n",
        "        else:\n",
        "            print(\"Insufficient balance or invalid amount.\")\n",
        "\n",
        "    # Method to check current balance\n",
        "    def check_balance(self):\n",
        "        print(f\"Current Balance: ₹{self.__balance}\")\n",
        "\n",
        "# Example usage\n",
        "account = BankAccount(1000)\n",
        "account.check_balance()      # ₹1000\n",
        "account.deposit(500)         # ₹1500\n",
        "account.withdraw(300)        # ₹1200\n",
        "account.check_balance()      # ₹1200\n",
        "\n",
        "# Attempting to access private attribute directly (not recommended)\n",
        "# print(account.__balance)  # This will raise an AttributeError"
      ],
      "metadata": {
        "colab": {
          "base_uri": "https://localhost:8080/"
        },
        "id": "5tSG8boUhu4L",
        "outputId": "f8f3b017-155e-4ca8-8563-863812a31710"
      },
      "execution_count": 6,
      "outputs": [
        {
          "output_type": "stream",
          "name": "stdout",
          "text": [
            "Current Balance: ₹1000\n",
            "Deposited: ₹500\n",
            "Withdrawn: ₹300\n",
            "Current Balance: ₹1200\n"
          ]
        }
      ]
    },
    {
      "cell_type": "code",
      "source": [
        "#6. Demonstrate runtime polymorphism using a method play() in a base class Instrument. Derive classes Guitar and Piano that implement their own version of play().\n",
        "# Base class\n",
        "class Instrument:\n",
        "    def play(self):\n",
        "        print(\"Instrument is playing\")\n",
        "\n",
        "# Derived class: Guitar\n",
        "class Guitar(Instrument):\n",
        "    def play(self):\n",
        "        print(\"Strumming the guitar\")\n",
        "\n",
        "# Derived class: Piano\n",
        "class Piano(Instrument):\n",
        "    def play(self):\n",
        "        print(\"Playing the piano\")\n",
        "\n",
        "# Function that demonstrates runtime polymorphism\n",
        "def start_playing(instrument):\n",
        "    instrument.play()\n",
        "\n",
        "# Example usage\n",
        "g = Guitar()\n",
        "p = Piano()\n",
        "\n",
        "start_playing(g)  # Output: Strumming the guitar\n",
        "start_playing(p)  # Output: Playing the piano"
      ],
      "metadata": {
        "colab": {
          "base_uri": "https://localhost:8080/"
        },
        "id": "TGXknMnviGfw",
        "outputId": "e9416a8e-e621-4d25-92aa-37cdf6aa44d7"
      },
      "execution_count": 7,
      "outputs": [
        {
          "output_type": "stream",
          "name": "stdout",
          "text": [
            "Strumming the guitar\n",
            "Playing the piano\n"
          ]
        }
      ]
    },
    {
      "cell_type": "code",
      "source": [
        "#7. Create a class MathOperations with a class method add_numbers() to add two numbers and a static method subtract_numbers() to subtract two numbers.\n",
        "class MathOperations:\n",
        "    @classmethod\n",
        "    def add_numbers(cls, a, b):\n",
        "        return a + b\n",
        "\n",
        "    @staticmethod\n",
        "    def subtract_numbers(a, b):\n",
        "        return a - b\n",
        "\n",
        "# Example usage\n",
        "result_add = MathOperations.add_numbers(10, 5)\n",
        "result_subtract = MathOperations.subtract_numbers(10, 5)\n",
        "\n",
        "print(f\"Addition: {result_add}\")        # Output: Addition: 15\n",
        "print(f\"Subtraction: {result_subtract}\")  # Output: Subtraction: 5"
      ],
      "metadata": {
        "colab": {
          "base_uri": "https://localhost:8080/"
        },
        "id": "SwGchhnhiYDp",
        "outputId": "8e600630-f25c-49eb-f032-9c932fe36c0b"
      },
      "execution_count": 8,
      "outputs": [
        {
          "output_type": "stream",
          "name": "stdout",
          "text": [
            "Addition: 15\n",
            "Subtraction: 5\n"
          ]
        }
      ]
    },
    {
      "cell_type": "code",
      "source": [
        "#8. Implement a class Person with a class method to count the total number of persons created.\n",
        "class Person:\n",
        "    count = 0  # Class variable to keep track of the number of persons\n",
        "\n",
        "    def __init__(self, name):\n",
        "        self.name = name\n",
        "        Person.count += 1  # Increment count whenever a new object is created\n",
        "\n",
        "    @classmethod\n",
        "    def get_person_count(cls):\n",
        "        return cls.count\n",
        "\n",
        "# Example usage\n",
        "p1 = Person(\"Rishabh\")\n",
        "p2 = Person(\"Aarav\")\n",
        "p3 = Person(\"Sneha\")\n",
        "\n",
        "print(f\"Total persons created: {Person.get_person_count()}\")\n",
        "\n",
        "#Total persons created: 3"
      ],
      "metadata": {
        "colab": {
          "base_uri": "https://localhost:8080/"
        },
        "id": "BaAYklEwin09",
        "outputId": "5d916576-53ee-45a6-e96b-d4d56483c458"
      },
      "execution_count": 9,
      "outputs": [
        {
          "output_type": "stream",
          "name": "stdout",
          "text": [
            "Total persons created: 3\n"
          ]
        }
      ]
    },
    {
      "cell_type": "code",
      "source": [
        "#9. Write a class Fraction with attributes numerator and denominator. Override the str method to display the fraction as \"numerator/denominator\".\n",
        "class Fraction:\n",
        "    def __init__(self, numerator, denominator):\n",
        "        self.numerator = numerator\n",
        "        self.denominator = denominator\n",
        "\n",
        "    def __str__(self):\n",
        "        return f\"{self.numerator}/{self.denominator}\"\n",
        "\n",
        "# Example usage\n",
        "f1 = Fraction(3, 4)\n",
        "f2 = Fraction(5, 8)\n",
        "\n",
        "print(f1)  # Output: 3/4\n",
        "print(f2)  # Output: 5/8"
      ],
      "metadata": {
        "colab": {
          "base_uri": "https://localhost:8080/"
        },
        "id": "y1SZCdUYjDf4",
        "outputId": "ab5845ee-174f-40bd-9411-0e9819860381"
      },
      "execution_count": 10,
      "outputs": [
        {
          "output_type": "stream",
          "name": "stdout",
          "text": [
            "3/4\n",
            "5/8\n"
          ]
        }
      ]
    },
    {
      "cell_type": "code",
      "source": [
        "#10 Demonstrate operator overloading by creating a class Vector and overriding the add method to add two vectors.\n",
        "class Vector:\n",
        "    def __init__(self, x, y):\n",
        "        self.x = x\n",
        "        self.y = y\n",
        "\n",
        "    # Overloading the + operator\n",
        "    def __add__(self, other):\n",
        "        return Vector(self.x + other.x, self.y + other.y)\n",
        "\n",
        "    def __str__(self):\n",
        "        return f\"Vector({self.x}, {self.y})\"\n",
        "\n",
        "# Example usage\n",
        "v1 = Vector(2, 3)\n",
        "v2 = Vector(4, 5)\n",
        "v3 = v1 + v2  # Calls v1.__add__(v2)\n",
        "\n",
        "print(v1)  # Output: Vector(2, 3)\n",
        "print(v2)  # Output: Vector(4, 5)\n",
        "print(v3)  # Output: Vector(6, 8)"
      ],
      "metadata": {
        "colab": {
          "base_uri": "https://localhost:8080/"
        },
        "id": "pbqc4UItjPqP",
        "outputId": "6c98c5de-6814-4a07-aade-5c542434fbe6"
      },
      "execution_count": 11,
      "outputs": [
        {
          "output_type": "stream",
          "name": "stdout",
          "text": [
            "Vector(2, 3)\n",
            "Vector(4, 5)\n",
            "Vector(6, 8)\n"
          ]
        }
      ]
    },
    {
      "cell_type": "code",
      "source": [
        "#11 Create a class Person with attributes name and age. Add a method greet() that prints \"Hello, my name is {name} and I am {age} years old.\"\n",
        "class Person:\n",
        "    def __init__(self, name, age):\n",
        "        self.name = name\n",
        "        self.age = age\n",
        "\n",
        "    def greet(self):\n",
        "        print(f\"Hello, my name is {self.name} and I am {self.age} years old.\")\n",
        "\n",
        "# Example usage\n",
        "p1 = Person(\"Rishabh\", 20)\n",
        "p1.greet()\n",
        "# Hello, my name is Rishabh and I am 20 years old.\n",
        "\n",
        "\n"
      ],
      "metadata": {
        "colab": {
          "base_uri": "https://localhost:8080/"
        },
        "id": "BoRCrAO2jcce",
        "outputId": "76b7a71f-1f23-4263-ed16-c51b0a891107"
      },
      "execution_count": 12,
      "outputs": [
        {
          "output_type": "stream",
          "name": "stdout",
          "text": [
            "Hello, my name is Rishabh and I am 20 years old.\n"
          ]
        }
      ]
    },
    {
      "cell_type": "code",
      "source": [
        "#12  Implement a class Student with attributes name and grades. Create a method average_grade() to compute the average of the grades\n",
        "class Student:\n",
        "    def __init__(self, name, grades):\n",
        "        self.name = name\n",
        "        self.grades = grades  # List of grades\n",
        "\n",
        "    def average_grade(self):\n",
        "        if self.grades:\n",
        "            return sum(self.grades) / len(self.grades)\n",
        "        else:\n",
        "            return 0\n",
        "\n",
        "# Example usage\n",
        "s1 = Student(\"Rishabh\", [85, 90, 78, 92])\n",
        "print(f\"{s1.name}'s average grade is: {s1.average_grade():.2f}\")\n",
        "\n",
        "#Rishabh's average grade is: 86.25"
      ],
      "metadata": {
        "colab": {
          "base_uri": "https://localhost:8080/"
        },
        "id": "axI2bpjDjsgO",
        "outputId": "49f260b6-1fe2-4547-ba5a-1a8942b516dd"
      },
      "execution_count": 13,
      "outputs": [
        {
          "output_type": "stream",
          "name": "stdout",
          "text": [
            "Rishabh's average grade is: 86.25\n"
          ]
        }
      ]
    },
    {
      "cell_type": "code",
      "source": [
        "#13  Create a class Rectangle with methods set_dimensions() to set the dimensions and area() to calculate the area\n",
        "class Rectangle:\n",
        "    def __init__(self):\n",
        "        self.length = 0\n",
        "        self.width = 0\n",
        "\n",
        "    def set_dimensions(self, length, width):\n",
        "        self.length = length\n",
        "        self.width = width\n",
        "\n",
        "    def area(self):\n",
        "        return self.length * self.width\n",
        "\n",
        "# Example usage\n",
        "rect = Rectangle()\n",
        "rect.set_dimensions(5, 3)\n",
        "print(f\"Area of the rectangle: {rect.area()}\")\n",
        "#Area of the rectangle: 15"
      ],
      "metadata": {
        "colab": {
          "base_uri": "https://localhost:8080/"
        },
        "id": "9BdVjasVj768",
        "outputId": "4e83eb55-f0eb-4dc2-f31b-cf5b5a7268e6"
      },
      "execution_count": 14,
      "outputs": [
        {
          "output_type": "stream",
          "name": "stdout",
          "text": [
            "Area of the rectangle: 15\n"
          ]
        }
      ]
    },
    {
      "cell_type": "code",
      "source": [
        "#14  Create a class Employee with a method calculate_salary() that computes the salary based on hours worked and hourly rate. Create a derived class Manager that adds a bonus to the salary.\n",
        "# Base class\n",
        "class Employee:\n",
        "    def __init__(self, name, hours_worked, hourly_rate):\n",
        "        self.name = name\n",
        "        self.hours_worked = hours_worked\n",
        "        self.hourly_rate = hourly_rate\n",
        "\n",
        "    def calculate_salary(self):\n",
        "        return self.hours_worked * self.hourly_rate\n",
        "\n",
        "# Derived class\n",
        "class Manager(Employee):\n",
        "    def __init__(self, name, hours_worked, hourly_rate, bonus):\n",
        "        super().__init__(name, hours_worked, hourly_rate)\n",
        "        self.bonus = bonus\n",
        "\n",
        "    def calculate_salary(self):\n",
        "        base_salary = super().calculate_salary()\n",
        "        return base_salary + self.bonus\n",
        "\n",
        "# Example usage\n",
        "e1 = Employee(\"Rishabh\", 40, 200)\n",
        "m1 = Manager(\"Aarav\", 45, 300, 5000)\n",
        "\n",
        "print(f\"{e1.name}'s salary: ₹{e1.calculate_salary()}\")\n",
        "print(f\"{m1.name}'s salary (with bonus): ₹{m1.calculate_salary()}\")\n",
        "\n",
        "#Rishabh's salary: ₹8000\n",
        "#Aarav's salary (with bonus): ₹18500"
      ],
      "metadata": {
        "colab": {
          "base_uri": "https://localhost:8080/"
        },
        "id": "gwrrrwDXkPL0",
        "outputId": "6c0af49b-5457-4fbf-997f-c56708d43912"
      },
      "execution_count": 17,
      "outputs": [
        {
          "output_type": "stream",
          "name": "stdout",
          "text": [
            "Rishabh's salary: ₹8000\n",
            "Aarav's salary (with bonus): ₹18500\n"
          ]
        }
      ]
    },
    {
      "cell_type": "code",
      "source": [
        "#15 Create a class Product with attributes name, price, and quantity. Implement a method total_price() that calculates the total price of the product.\n",
        "class Product:\n",
        "    def __init__(self, name, price, quantity):\n",
        "        self.name = name\n",
        "        self.price = price\n",
        "        self.quantity = quantity\n",
        "\n",
        "    def total_price(self):\n",
        "        return self.price * self.quantity\n",
        "\n",
        "# Example usage\n",
        "p1 = Product(\"Laptop\", 50000, 2)\n",
        "print(f\"Total price for {p1.name}: ₹{p1.total_price()}\")\n",
        "\n",
        "#Total price for Laptop: ₹100000"
      ],
      "metadata": {
        "colab": {
          "base_uri": "https://localhost:8080/"
        },
        "id": "HQPpwhKWkkV2",
        "outputId": "17e0d179-b9eb-4b3c-9389-d8bb99a516a7"
      },
      "execution_count": 18,
      "outputs": [
        {
          "output_type": "stream",
          "name": "stdout",
          "text": [
            "Total price for Laptop: ₹100000\n"
          ]
        }
      ]
    },
    {
      "cell_type": "code",
      "source": [
        "#16. Create a class Animal with an abstract method sound(). Create two derived classes Cow and Sheep that implement the sound() method.\n",
        "from abc import ABC, abstractmethod\n",
        "\n",
        "# Abstract base class\n",
        "class Animal(ABC):\n",
        "    @abstractmethod\n",
        "    def sound(self):\n",
        "        pass\n",
        "\n",
        "# Derived class: Cow\n",
        "class Cow(Animal):\n",
        "    def sound(self):\n",
        "        print(\"Cow says Moo\")\n",
        "\n",
        "# Derived class: Sheep\n",
        "class Sheep(Animal):\n",
        "    def sound(self):\n",
        "        print(\"Sheep says Baa\")\n",
        "\n",
        "# Example usage\n",
        "c = Cow()\n",
        "s = Sheep()\n",
        "\n",
        "c.sound()   # Output: Cow says Moo\n",
        "s.sound()   # Output: Sheep says Baa"
      ],
      "metadata": {
        "colab": {
          "base_uri": "https://localhost:8080/"
        },
        "id": "GNdUl237lCdn",
        "outputId": "f368e1f4-eee9-44a3-e5fd-c91dfeb25c4c"
      },
      "execution_count": 19,
      "outputs": [
        {
          "output_type": "stream",
          "name": "stdout",
          "text": [
            "Cow says Moo\n",
            "Sheep says Baa\n"
          ]
        }
      ]
    },
    {
      "cell_type": "code",
      "source": [
        "#17 Create a class Book with attributes title, author, and year_published. Add a method get_book_info() that returns a formatted string with the book's details.\n",
        "class Book:\n",
        "    def __init__(self, title, author, year_published):\n",
        "        self.title = title\n",
        "        self.author = author\n",
        "        self.year_published = year_published\n",
        "\n",
        "    def get_book_info(self):\n",
        "        return f\"'{self.title}' by {self.author} (Published in {self.year_published})\"\n",
        "\n",
        "# Example usage\n",
        "book1 = Book(\"To Kill a Mockingbird\", \"Harper Lee\", 1960)\n",
        "print(book1.get_book_info())\n",
        "\n",
        "#'To Kill a Mockingbird' by Harper Lee (Published in 1960)"
      ],
      "metadata": {
        "colab": {
          "base_uri": "https://localhost:8080/"
        },
        "id": "OKT_8hsclP2R",
        "outputId": "6076773e-8589-45e2-a0e7-58c91ec5171a"
      },
      "execution_count": 20,
      "outputs": [
        {
          "output_type": "stream",
          "name": "stdout",
          "text": [
            "'To Kill a Mockingbird' by Harper Lee (Published in 1960)\n"
          ]
        }
      ]
    },
    {
      "cell_type": "code",
      "source": [
        "#18. Create a class House with attributes address and price. Create a derived class Mansion that adds an attribute number_of_rooms.\n",
        "# Base class\n",
        "class House:\n",
        "    def __init__(self, address, price):\n",
        "        self.address = address\n",
        "        self.price = price\n",
        "\n",
        "    def display_info(self):\n",
        "        return f\"Address: {self.address}, Price: ₹{self.price}\"\n",
        "\n",
        "# Derived class\n",
        "class Mansion(House):\n",
        "    def __init__(self, address, price, number_of_rooms):\n",
        "        super().__init__(address, price)\n",
        "        self.number_of_rooms = number_of_rooms\n",
        "\n",
        "    def display_info(self):\n",
        "        return f\"{super().display_info()}, Rooms: {self.number_of_rooms}\"\n",
        "\n",
        "# Example usage\n",
        "m1 = Mansion(\"123 Elite Street, Mumbai\", 50000000, 10)\n",
        "print(m1.display_info())\n",
        "\n",
        "#Address: 123 Elite Street, Mumbai, Price: ₹50000000, Rooms: 10"
      ],
      "metadata": {
        "colab": {
          "base_uri": "https://localhost:8080/"
        },
        "id": "m5GNU641lfaW",
        "outputId": "54eca45b-0e65-443c-b0d9-1bf3cb37ecf4"
      },
      "execution_count": 21,
      "outputs": [
        {
          "output_type": "stream",
          "name": "stdout",
          "text": [
            "Address: 123 Elite Street, Mumbai, Price: ₹50000000, Rooms: 10\n"
          ]
        }
      ]
    }
  ]
}